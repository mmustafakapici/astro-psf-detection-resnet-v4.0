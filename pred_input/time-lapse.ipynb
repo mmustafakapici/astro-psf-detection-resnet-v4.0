{
 "cells": [
  {
   "cell_type": "code",
   "execution_count": 1,
   "metadata": {},
   "outputs": [
    {
     "name": "stdout",
     "output_type": "stream",
     "text": [
      "Toplam kare sayısı: 739, FPS: 30\n",
      "Kaydedildi: output_image_part_1.png\n",
      "Kaydedildi: output_image_part_2.png\n",
      "Kaydedildi: output_image_part_3.png\n",
      "Kaydedildi: output_image_part_4.png\n",
      "Kaydedildi: output_image_part_5.png\n",
      "Kaydedildi: output_image_part_6.png\n"
     ]
    }
   ],
   "source": [
    "import cv2\n",
    "import numpy as np\n",
    "\n",
    "def create_long_exposure_images_from_timelapse(mp4_path, output_prefix, num_parts=6):\n",
    "    # Video dosyasını aç\n",
    "    cap = cv2.VideoCapture(mp4_path)\n",
    "    \n",
    "    if not cap.isOpened():\n",
    "        print(\"Video dosyası açılamadı.\")\n",
    "        return\n",
    "    \n",
    "    # Toplam kare sayısını ve fps'i öğren\n",
    "    total_frames = int(cap.get(cv2.CAP_PROP_FRAME_COUNT))\n",
    "    fps = int(cap.get(cv2.CAP_PROP_FPS))\n",
    "    print(f\"Toplam kare sayısı: {total_frames}, FPS: {fps}\")\n",
    "    \n",
    "    # Her parçadaki kare sayısı\n",
    "    frames_per_part = total_frames // num_parts\n",
    "    \n",
    "    for part in range(num_parts):\n",
    "        # Uzun pozlama görüntüsü için boş bir frame oluştur\n",
    "        long_exposure_frame = None\n",
    "        \n",
    "        for i in range(frames_per_part):\n",
    "            ret, frame = cap.read()\n",
    "            if not ret:\n",
    "                break\n",
    "\n",
    "            # İlk frame için başlangıç değeri olarak kullan\n",
    "            if long_exposure_frame is None:\n",
    "                long_exposure_frame = np.zeros_like(frame, dtype=np.float32)\n",
    "            \n",
    "            # Hareket eden noktayı takip eden uzun pozlama efekti yaratmak için frame ekle\n",
    "            long_exposure_frame += frame.astype(np.float32)\n",
    "\n",
    "        # Normalize et ve kaydet\n",
    "        long_exposure_frame /= frames_per_part\n",
    "        long_exposure_frame = np.uint8(np.clip(long_exposure_frame, 0, 255))\n",
    "        \n",
    "        output_filename = f\"{output_prefix}_part_{part + 1}.png\"\n",
    "        cv2.imwrite(output_filename, long_exposure_frame)\n",
    "        print(f\"Kaydedildi: {output_filename}\")\n",
    "    \n",
    "    cap.release()\n",
    "\n",
    "# Kullanım\n",
    "create_long_exposure_images_from_timelapse('timelapse-s2a.mp4', 'output_image')\n"
   ]
  },
  {
   "cell_type": "code",
   "execution_count": null,
   "metadata": {},
   "outputs": [],
   "source": []
  }
 ],
 "metadata": {
  "kernelspec": {
   "display_name": "uzay",
   "language": "python",
   "name": "python3"
  },
  "language_info": {
   "codemirror_mode": {
    "name": "ipython",
    "version": 3
   },
   "file_extension": ".py",
   "mimetype": "text/x-python",
   "name": "python",
   "nbconvert_exporter": "python",
   "pygments_lexer": "ipython3",
   "version": "3.10.14"
  }
 },
 "nbformat": 4,
 "nbformat_minor": 2
}
