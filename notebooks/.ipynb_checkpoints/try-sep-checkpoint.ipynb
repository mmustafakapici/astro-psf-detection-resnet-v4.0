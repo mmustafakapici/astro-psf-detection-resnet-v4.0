{
 "cells": [
  {
   "cell_type": "code",
   "id": "e0ffed6a24bb2591",
   "metadata": {
    "collapsed": true
   },
   "source": [
    "from photutils import detect_sources, deblend_sources, DAOStarFinder\n",
    "from numpy import resize\n",
    "from astropy.io import fits\n",
    "import matplotlib.pyplot as plt\n",
    "import cv2\n",
    "from photutils import detect_sources, deblend_sources, DAOStarFinder\n",
    "from photutils.segmentation import SourceCatalog\n",
    "from astropy.stats import mad_std\n",
    "from skimage.filters import gaussian\n",
    "import numpy as np\n",
    "from scipy.ndimage import gaussian_filter\n",
    "from skimage.transform import resize\n",
    "import sep\n",
    "\n",
    "from matplotlib.patches import Ellipse\n",
    "import matplotlib.pyplot as plt\n",
    "import numpy as np\n",
    "from astropy.io import fits\n",
    "from skimage.transform import resize\n",
    "import sep\n",
    "import cv2"
   ],
   "outputs": [],
   "execution_count": null
  },
  {
   "cell_type": "code",
   "id": "7aa0a3d5",
   "metadata": {},
   "source": [
    "\n",
    "def process_fits(data: np.ndarray, target_size=(512, 512), power: float = 4.0, sigma: float = 1.0) -> np.ndarray:\n",
    "    data = np.nan_to_num(data)  # NaN değerlerini 0 ile değiştir\n",
    "\n",
    "    # %99.5 ölçekleme\n",
    "    lower_percentile = np.percentile(data, 0.5)\n",
    "    upper_percentile = np.percentile(data, 99.5)\n",
    "    \n",
    "    data = np.clip(data, lower_percentile, upper_percentile)  # Değerleri %0.5 ve %99.5 arasında kırp\n",
    "    data = (data - lower_percentile) / (upper_percentile - lower_percentile)  # Bu aralığı normalize et\n",
    "    \n",
    "    # SEP ile arkaplan temizleme\n",
    "    bkg = sep.Background(data,  bw=64, bh=64, fw=3, fh=3)\n",
    "    data = data - bkg\n",
    "    \n",
    "    # Power scale uygulaması\n",
    "    data = np.power(data, power)\n",
    "    \n",
    "    # Min-Max normalizasyonu\n",
    "    data = (data - np.min(data)) / (np.max(data) - np.min(data))\n",
    "\n",
    "    # Görüntüyü yeniden boyutlandır\n",
    "    data = resize(data, target_size)\n",
    "    \n",
    "    return data\n",
    "\n",
    "def load_fits_images(fits_paths: list) -> np.ndarray:\n",
    "    images = []\n",
    "    for path in fits_paths:\n",
    "        with fits.open(path) as hdul:\n",
    "            data = hdul[0].data\n",
    "            images.append(process_fits(data))\n",
    "    return np.stack(images, axis=0)\n",
    "\n",
    "def detect_objects_with_sep(data: np.ndarray, threshold_sigma: float = 3.0, min_area: int = 5) -> list:\n",
    "    data_std = np.std(data)\n",
    "    objects = sep.extract(data, threshold_sigma * data_std, minarea=min_area)\n",
    "    return objects\n",
    "\n",
    "def draw_ellipses(data: np.ndarray, objects: list, title: str = None):\n",
    "    fig, ax = plt.subplots(figsize=(8, 8))\n",
    "    m, s = np.mean(data), np.std(data)\n",
    "    im = ax.imshow(data, interpolation='nearest', cmap='gray', vmin=m-s, vmax=m+s, origin='lower')\n",
    "\n",
    "    for i in range(len(objects)):\n",
    "        e = Ellipse(xy=(objects['x'][i], objects['y'][i]),\n",
    "                    width=6*objects['a'][i],\n",
    "                    height=6*objects['b'][i],\n",
    "                    angle=objects['theta'][i] * 180. / np.pi)\n",
    "        e.set_facecolor('none')\n",
    "        e.set_edgecolor('red')\n",
    "        ax.add_artist(e)\n",
    "\n",
    "    plt.title(title)\n",
    "    plt.axis('off')\n",
    "    plt.show()\n",
    "\n",
    "def draw_bounding_boxes(data: np.ndarray, objects: list, title: str = None):\n",
    "    fig, ax = plt.subplots(figsize=(8, 8))\n",
    "    m, s = np.mean(data), np.std(data)\n",
    "    im = ax.imshow(data, interpolation='nearest', cmap='gray', vmin=m-s, vmax=m+s, origin='lower')\n",
    "\n",
    "    for i in range(len(objects)):\n",
    "        x = objects['x'][i]\n",
    "        y = objects['y'][i]\n",
    "        a = objects['a'][i]\n",
    "        b = objects['b'][i]\n",
    "        theta = objects['theta'][i]\n",
    "        angle = theta * 180. / np.pi\n",
    "        rect = Ellipse(xy=(x, y), width=2*a, height=2*b, angle=angle, edgecolor='red', facecolor='none')\n",
    "        ax.add_patch(rect)\n",
    "\n",
    "    plt.title(title)\n",
    "    plt.axis('off')\n",
    "    plt.show()\n",
    "\n",
    "def visualize_fits(data: np.ndarray, title: str = None):\n",
    "    plt.figure(figsize=(8, 8))\n",
    "    plt.imshow(data, cmap='gray')\n",
    "    plt.colorbar()\n",
    "    plt.title(title)\n",
    "    plt.axis('off')\n",
    "    plt.show()\n"
   ],
   "outputs": [],
   "execution_count": null
  },
  {
   "cell_type": "code",
   "id": "1b05f5ea9a2ea35c",
   "metadata": {},
   "source": [
    "# Load the FITS images\n",
    "images_path='set_1/'\n",
    "bands = ['g']\n",
    "\n",
    "#img_g.fits, img_r.fits, img_z.fits\n",
    "fits_paths = [f'{images_path}img_{band}.fits' for band in bands]\n",
    "\n",
    "image_datas = load_fits_images(fits_paths)\n",
    "\n"
   ],
   "outputs": [],
   "execution_count": null
  },
  {
   "cell_type": "code",
   "id": "0a74239b",
   "metadata": {},
   "source": [
    "print(type(image_datas))\n",
    "print(image_datas[0].shape)\n",
    "#print(image_datas[1].shape)\n",
    "#print(image_datas[2].shape)"
   ],
   "outputs": [],
   "execution_count": null
  },
  {
   "cell_type": "code",
   "id": "52669b3e",
   "metadata": {},
   "source": [
    "plt.imshow(image_datas[0], cmap='gray')\n",
    "plt.colorbar()\n",
    "plt.show()"
   ],
   "outputs": [],
   "execution_count": null
  },
  {
   "cell_type": "code",
   "id": "10fbbaf0",
   "metadata": {},
   "source": [
    "print('Min:', np.min(image_datas[0]))\n",
    "print('Max:', np.max(image_datas[0]))\n",
    "print('Mean:', np.mean(image_datas[0]))\n",
    "print('Stdev:', np.std(image_datas[0]))\n"
   ],
   "outputs": [],
   "execution_count": null
  },
  {
   "cell_type": "code",
   "id": "15678e84",
   "metadata": {},
   "source": [
    "# color distribution calculation for thersholding\n",
    "\n",
    "histogram = plt.hist(image_datas[0].flat, bins='auto')\n",
    "\n",
    "plt.show()"
   ],
   "outputs": [],
   "execution_count": null
  },
  {
   "cell_type": "code",
   "id": "cf63e5cb",
   "metadata": {},
   "source": [
    "images = load_fits_images(fits_paths)"
   ],
   "outputs": [],
   "execution_count": null
  },
  {
   "cell_type": "code",
   "id": "367ab70f",
   "metadata": {},
   "source": [
    "#visualize the images\n",
    "visualize_fits(images[0], title='g band')"
   ],
   "outputs": [],
   "execution_count": null
  },
  {
   "cell_type": "code",
   "id": "b7743a50",
   "metadata": {},
   "source": [
    "# detect objects\n",
    "\n",
    "objects = detect_objects_with_sep(images[0], threshold_sigma=3.0, min_area=5)\n",
    "print(len(objects))"
   ],
   "outputs": [],
   "execution_count": null
  },
  {
   "cell_type": "code",
   "id": "6f8b413e",
   "metadata": {},
   "source": [
    "# draw ellipses\n",
    "\n",
    "draw_ellipses(images[0], objects, title='g band')"
   ],
   "outputs": [],
   "execution_count": null
  },
  {
   "cell_type": "code",
   "id": "66179a5b",
   "metadata": {},
   "source": [],
   "outputs": [],
   "execution_count": null
  },
  {
   "cell_type": "code",
   "id": "a03fac74",
   "metadata": {},
   "source": [
    "\n",
    "draw_bounding_boxes(images[0], objects, title='g band')"
   ],
   "outputs": [],
   "execution_count": null
  },
  {
   "cell_type": "code",
   "id": "3a66886b",
   "metadata": {},
   "source": [],
   "outputs": [],
   "execution_count": null
  }
 ],
 "metadata": {
  "kernelspec": {
   "display_name": "Python 3",
   "language": "python",
   "name": "python3"
  },
  "language_info": {
   "codemirror_mode": {
    "name": "ipython",
    "version": 3
   },
   "file_extension": ".py",
   "mimetype": "text/x-python",
   "name": "python",
   "nbconvert_exporter": "python",
   "pygments_lexer": "ipython3",
   "version": "3.12.4"
  }
 },
 "nbformat": 4,
 "nbformat_minor": 5
}
