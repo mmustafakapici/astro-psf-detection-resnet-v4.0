{
 "cells": [
  {
   "cell_type": "code",
   "execution_count": 2,
   "metadata": {},
   "outputs": [
    {
     "name": "stdout",
     "output_type": "stream",
     "text": [
      "Saved output_frames-1\\frame_0000.png\n",
      "Saved output_frames-1\\frame_0001.png\n",
      "Saved output_frames-1\\frame_0002.png\n",
      "Saved output_frames-1\\frame_0003.png\n",
      "Saved output_frames-1\\frame_0004.png\n",
      "Saved output_frames-1\\frame_0005.png\n",
      "Saved output_frames-1\\frame_0006.png\n",
      "Saved output_frames-1\\frame_0007.png\n"
     ]
    }
   ],
   "source": [
    "import cv2\n",
    "import os\n",
    "\n",
    "def parse_timelapse_to_png(video_path, output_dir, interval_seconds):\n",
    "    # Çıktı dizini yoksa oluştur\n",
    "    if not os.path.exists(output_dir):\n",
    "        os.makedirs(output_dir)\n",
    "\n",
    "    # Videoyu aç\n",
    "    cap = cv2.VideoCapture(video_path)\n",
    "\n",
    "    # Video FPS (frame per second) bilgisini al\n",
    "    fps = cap.get(cv2.CAP_PROP_FPS)\n",
    "\n",
    "    # Kaç karede bir resim kaydedileceğini hesapla\n",
    "    frame_interval = int(fps * interval_seconds)\n",
    "\n",
    "    frame_count = 0\n",
    "    saved_count = 0\n",
    "    while True:\n",
    "        # Videodan kare al\n",
    "        ret, frame = cap.read()\n",
    "\n",
    "        # Video bittiğinde döngüden çık\n",
    "        if not ret:\n",
    "            break\n",
    "\n",
    "        # Belirtilen aralıkla kareleri kaydet\n",
    "        if frame_count % frame_interval == 0:\n",
    "            frame_name = os.path.join(output_dir, f\"frame_{saved_count:04d}.png\")\n",
    "            cv2.imwrite(frame_name, frame)\n",
    "            print(f\"Saved {frame_name}\")\n",
    "            saved_count += 1\n",
    "\n",
    "        frame_count += 1\n",
    "\n",
    "    # Videoyu serbest bırak\n",
    "    cap.release()\n",
    "\n",
    "# Örnek kullanım:\n",
    "parse_timelapse_to_png('s2a-timelapses/s2a-our-first-visual-observ.mp4', 'output_frames-1' , 1)\n",
    "\n",
    "# Örnek kullanım:\n",
    "parse_timelapse_to_png('s2a-timelapses/s2a-a-short-time-lapse-cre.mp4', 'output_frames-2' , 2)"
   ]
  },
  {
   "cell_type": "code",
   "execution_count": 4,
   "metadata": {},
   "outputs": [
    {
     "name": "stdout",
     "output_type": "stream",
     "text": [
      "Saved output_frames-2\\frame_0000.png\n",
      "Saved output_frames-2\\frame_0001.png\n",
      "Saved output_frames-2\\frame_0002.png\n",
      "Saved output_frames-2\\frame_0003.png\n",
      "Saved output_frames-2\\frame_0004.png\n",
      "Saved output_frames-2\\frame_0005.png\n",
      "Saved output_frames-2\\frame_0006.png\n",
      "Saved output_frames-2\\frame_0007.png\n",
      "Saved output_frames-2\\frame_0008.png\n",
      "Saved output_frames-2\\frame_0009.png\n"
     ]
    }
   ],
   "source": []
  },
  {
   "cell_type": "code",
   "execution_count": null,
   "metadata": {},
   "outputs": [],
   "source": []
  }
 ],
 "metadata": {
  "kernelspec": {
   "display_name": "uzay",
   "language": "python",
   "name": "python3"
  },
  "language_info": {
   "codemirror_mode": {
    "name": "ipython",
    "version": 3
   },
   "file_extension": ".py",
   "mimetype": "text/x-python",
   "name": "python",
   "nbconvert_exporter": "python",
   "pygments_lexer": "ipython3",
   "version": "3.10.14"
  }
 },
 "nbformat": 4,
 "nbformat_minor": 2
}
