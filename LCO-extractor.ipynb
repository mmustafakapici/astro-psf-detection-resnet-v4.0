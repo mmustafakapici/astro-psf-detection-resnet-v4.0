{
 "cells": [
  {
   "cell_type": "code",
   "id": "8e98456c836bc3bc",
   "metadata": {
    "collapsed": true,
    "ExecuteTime": {
     "end_time": "2024-08-09T12:07:07.270120Z",
     "start_time": "2024-08-09T12:07:05.097620Z"
    }
   },
   "source": [
    "import os\n",
    "from astropy.io import fits"
   ],
   "outputs": [],
   "execution_count": 1
  },
  {
   "metadata": {
    "ExecuteTime": {
     "end_time": "2024-08-09T12:07:48.670760Z",
     "start_time": "2024-08-09T12:07:48.661261Z"
    }
   },
   "cell_type": "code",
   "source": [
    "\n",
    "def convert_fz_to_fits(directory):\n",
    "    for filename in os.listdir(directory):\n",
    "        if filename.endswith('.fits.fz'):\n",
    "            file_path = os.path.join(directory, filename)\n",
    "            new_file_path = os.path.join(directory, filename.replace('.fits.fz', '.fits'))\n",
    "\n",
    "            with fits.open(file_path) as hdul:\n",
    "                hdul.writeto(new_file_path, overwrite=True)\n",
    "                # fz dosyasını sil\n",
    "                \n",
    "\n",
    "            print(f\"Converted {filename} to {new_file_path}\")"
   ],
   "id": "b158a7fbb2f2caf6",
   "outputs": [],
   "execution_count": 4
  },
  {
   "metadata": {
    "ExecuteTime": {
     "end_time": "2024-08-09T12:07:55.929257Z",
     "start_time": "2024-08-09T12:07:48.949758Z"
    }
   },
   "cell_type": "code",
   "source": [
    "\n",
    "# Belirli bir dizin yolu\n",
    "directory_path = 'lco_data/'  # Bu yolu kendi dizininizle değiştirin\n",
    "\n",
    "convert_fz_to_fits(directory_path)\n"
   ],
   "id": "initial_id",
   "outputs": [
    {
     "name": "stdout",
     "output_type": "stream",
     "text": [
      "Converted lsc1m004-fl04-20160429-0078-e91.fits.fz to lco_data/lsc1m004-fl04-20160429-0078-e91.fits\n",
      "Converted lsc1m004-fl04-20160429-0079-e91.fits.fz to lco_data/lsc1m004-fl04-20160429-0079-e91.fits\n",
      "Converted lsc1m004-fl04-20160429-0080-e91.fits.fz to lco_data/lsc1m004-fl04-20160429-0080-e91.fits\n",
      "Converted lsc1m004-fl04-20160429-0081-e91.fits.fz to lco_data/lsc1m004-fl04-20160429-0081-e91.fits\n",
      "Converted lsc1m004-fl04-20160429-0082-e91.fits.fz to lco_data/lsc1m004-fl04-20160429-0082-e91.fits\n",
      "Converted lsc1m004-fl04-20160430-0022-e91.fits.fz to lco_data/lsc1m004-fl04-20160430-0022-e91.fits\n",
      "Converted lsc1m004-fl04-20160430-0023-e91.fits.fz to lco_data/lsc1m004-fl04-20160430-0023-e91.fits\n",
      "Converted lsc1m004-fl04-20160430-0024-e91.fits.fz to lco_data/lsc1m004-fl04-20160430-0024-e91.fits\n",
      "Converted lsc1m004-fl04-20160430-0025-e91.fits.fz to lco_data/lsc1m004-fl04-20160430-0025-e91.fits\n",
      "Converted lsc1m004-fl04-20160430-0026-e91.fits.fz to lco_data/lsc1m004-fl04-20160430-0026-e91.fits\n",
      "Converted lsc1m004-fl04-20160502-0067-e91.fits.fz to lco_data/lsc1m004-fl04-20160502-0067-e91.fits\n",
      "Converted lsc1m004-fl04-20160502-0068-e91.fits.fz to lco_data/lsc1m004-fl04-20160502-0068-e91.fits\n",
      "Converted lsc1m004-fl04-20160502-0069-e91.fits.fz to lco_data/lsc1m004-fl04-20160502-0069-e91.fits\n",
      "Converted lsc1m004-fl04-20160502-0070-e91.fits.fz to lco_data/lsc1m004-fl04-20160502-0070-e91.fits\n",
      "Converted lsc1m004-fl04-20160502-0071-e91.fits.fz to lco_data/lsc1m004-fl04-20160502-0071-e91.fits\n",
      "Converted lsc1m004-kb15-20160502-0214-e00.fits.fz to lco_data/lsc1m004-kb15-20160502-0214-e00.fits\n",
      "Converted lsc1m004-kb15-20160502-0215-e00.fits.fz to lco_data/lsc1m004-kb15-20160502-0215-e00.fits\n",
      "Converted lsc1m004-kb15-20160502-0216-e00.fits.fz to lco_data/lsc1m004-kb15-20160502-0216-e00.fits\n",
      "Converted lsc1m004-kb15-20160502-0217-e00.fits.fz to lco_data/lsc1m004-kb15-20160502-0217-e00.fits\n",
      "Converted lsc1m004-kb15-20160502-0218-e00.fits.fz to lco_data/lsc1m004-kb15-20160502-0218-e00.fits\n",
      "Converted lsc1m004-kb15-20160502-0219-e00.fits.fz to lco_data/lsc1m004-kb15-20160502-0219-e00.fits\n",
      "Converted lsc1m004-kb15-20160502-0220-e00.fits.fz to lco_data/lsc1m004-kb15-20160502-0220-e00.fits\n",
      "Converted lsc1m004-kb15-20160502-0221-e00.fits.fz to lco_data/lsc1m004-kb15-20160502-0221-e00.fits\n",
      "Converted lsc1m004-kb15-20160502-0222-e00.fits.fz to lco_data/lsc1m004-kb15-20160502-0222-e00.fits\n",
      "Converted lsc1m004-kb15-20160502-0223-e00.fits.fz to lco_data/lsc1m004-kb15-20160502-0223-e00.fits\n",
      "Converted lsc1m004-kb15-20160502-0224-e00.fits.fz to lco_data/lsc1m004-kb15-20160502-0224-e00.fits\n",
      "Converted lsc1m004-kb15-20160502-0225-e00.fits.fz to lco_data/lsc1m004-kb15-20160502-0225-e00.fits\n",
      "Converted lsc1m004-kb15-20160502-0226-e00.fits.fz to lco_data/lsc1m004-kb15-20160502-0226-e00.fits\n",
      "Converted lsc1m004-kb15-20160502-0227-e00.fits.fz to lco_data/lsc1m004-kb15-20160502-0227-e00.fits\n",
      "Converted lsc1m004-kb15-20160502-0228-e00.fits.fz to lco_data/lsc1m004-kb15-20160502-0228-e00.fits\n",
      "Converted lsc1m004-kb15-20160502-0229-e00.fits.fz to lco_data/lsc1m004-kb15-20160502-0229-e00.fits\n",
      "Converted lsc1m004-kb15-20160502-0230-e00.fits.fz to lco_data/lsc1m004-kb15-20160502-0230-e00.fits\n",
      "Converted lsc1m004-kb15-20160502-0231-e00.fits.fz to lco_data/lsc1m004-kb15-20160502-0231-e00.fits\n",
      "Converted lsc1m004-kb15-20160502-0232-e00.fits.fz to lco_data/lsc1m004-kb15-20160502-0232-e00.fits\n",
      "Converted lsc1m004-kb15-20160502-0233-e00.fits.fz to lco_data/lsc1m004-kb15-20160502-0233-e00.fits\n",
      "Converted lsc1m004-kb15-20160502-0234-e00.fits.fz to lco_data/lsc1m004-kb15-20160502-0234-e00.fits\n",
      "Converted lsc1m004-kb15-20160502-0235-e00.fits.fz to lco_data/lsc1m004-kb15-20160502-0235-e00.fits\n",
      "Converted lsc1m004-kb15-20160502-0236-e00.fits.fz to lco_data/lsc1m004-kb15-20160502-0236-e00.fits\n",
      "Converted lsc1m004-kb15-20160502-0237-e00.fits.fz to lco_data/lsc1m004-kb15-20160502-0237-e00.fits\n",
      "Converted lsc1m004-kb15-20160502-0238-e00.fits.fz to lco_data/lsc1m004-kb15-20160502-0238-e00.fits\n",
      "Converted lsc1m004-kb15-20160502-0239-e00.fits.fz to lco_data/lsc1m004-kb15-20160502-0239-e00.fits\n",
      "Converted lsc1m004-kb15-20160502-0240-e00.fits.fz to lco_data/lsc1m004-kb15-20160502-0240-e00.fits\n",
      "Converted lsc1m004-kb15-20160502-0241-e00.fits.fz to lco_data/lsc1m004-kb15-20160502-0241-e00.fits\n",
      "Converted lsc1m004-kb15-20160502-0242-e00.fits.fz to lco_data/lsc1m004-kb15-20160502-0242-e00.fits\n",
      "Converted lsc1m004-kb15-20160502-0243-e00.fits.fz to lco_data/lsc1m004-kb15-20160502-0243-e00.fits\n",
      "Converted lsc1m004-kb15-20160502-0244-e00.fits.fz to lco_data/lsc1m004-kb15-20160502-0244-e00.fits\n",
      "Converted lsc1m004-kb15-20160502-0245-e00.fits.fz to lco_data/lsc1m004-kb15-20160502-0245-e00.fits\n",
      "Converted lsc1m004-kb15-20160502-0246-e00.fits.fz to lco_data/lsc1m004-kb15-20160502-0246-e00.fits\n",
      "Converted lsc1m004-kb15-20160502-0247-e00.fits.fz to lco_data/lsc1m004-kb15-20160502-0247-e00.fits\n",
      "Converted lsc1m004-kb15-20160502-0248-e00.fits.fz to lco_data/lsc1m004-kb15-20160502-0248-e00.fits\n",
      "Converted lsc1m004-kb15-20160502-0249-e00.fits.fz to lco_data/lsc1m004-kb15-20160502-0249-e00.fits\n",
      "Converted lsc1m004-kb15-20160502-0250-e00.fits.fz to lco_data/lsc1m004-kb15-20160502-0250-e00.fits\n",
      "Converted lsc1m004-kb15-20160502-0251-e00.fits.fz to lco_data/lsc1m004-kb15-20160502-0251-e00.fits\n",
      "Converted lsc1m004-kb15-20160502-0252-e00.fits.fz to lco_data/lsc1m004-kb15-20160502-0252-e00.fits\n",
      "Converted lsc1m004-kb15-20160502-0253-e00.fits.fz to lco_data/lsc1m004-kb15-20160502-0253-e00.fits\n",
      "Converted lsc1m004-kb15-20160502-0254-e00.fits.fz to lco_data/lsc1m004-kb15-20160502-0254-e00.fits\n",
      "Converted lsc1m004-kb15-20160502-0255-e00.fits.fz to lco_data/lsc1m004-kb15-20160502-0255-e00.fits\n",
      "Converted lsc1m004-kb15-20160502-0256-e00.fits.fz to lco_data/lsc1m004-kb15-20160502-0256-e00.fits\n",
      "Converted lsc1m004-kb15-20160502-0257-e00.fits.fz to lco_data/lsc1m004-kb15-20160502-0257-e00.fits\n",
      "Converted lsc1m004-kb15-20160502-0258-e00.fits.fz to lco_data/lsc1m004-kb15-20160502-0258-e00.fits\n",
      "Converted lsc1m004-kb15-20160502-0259-e00.fits.fz to lco_data/lsc1m004-kb15-20160502-0259-e00.fits\n",
      "Converted lsc1m004-kb15-20160502-0260-e00.fits.fz to lco_data/lsc1m004-kb15-20160502-0260-e00.fits\n",
      "Converted lsc1m004-kb15-20160502-0261-e00.fits.fz to lco_data/lsc1m004-kb15-20160502-0261-e00.fits\n",
      "Converted lsc1m004-kb15-20160502-0262-e00.fits.fz to lco_data/lsc1m004-kb15-20160502-0262-e00.fits\n",
      "Converted lsc1m009-fl03-20160429-0110-e91.fits.fz to lco_data/lsc1m009-fl03-20160429-0110-e91.fits\n",
      "Converted lsc1m009-fl03-20160429-0111-e91.fits.fz to lco_data/lsc1m009-fl03-20160429-0111-e91.fits\n",
      "Converted lsc1m009-fl03-20160429-0112-e91.fits.fz to lco_data/lsc1m009-fl03-20160429-0112-e91.fits\n",
      "Converted lsc1m009-fl03-20160429-0113-e91.fits.fz to lco_data/lsc1m009-fl03-20160429-0113-e91.fits\n",
      "Converted lsc1m009-fl03-20160429-0114-e91.fits.fz to lco_data/lsc1m009-fl03-20160429-0114-e91.fits\n",
      "Converted lsc1m009-fl03-20160430-0084-e91.fits.fz to lco_data/lsc1m009-fl03-20160430-0084-e91.fits\n",
      "Converted lsc1m009-fl03-20160430-0085-e91.fits.fz to lco_data/lsc1m009-fl03-20160430-0085-e91.fits\n",
      "Converted lsc1m009-fl03-20160430-0086-e91.fits.fz to lco_data/lsc1m009-fl03-20160430-0086-e91.fits\n",
      "Converted lsc1m009-fl03-20160430-0087-e91.fits.fz to lco_data/lsc1m009-fl03-20160430-0087-e91.fits\n",
      "Converted lsc1m009-kb11-20160513-0892-e00.fits.fz to lco_data/lsc1m009-kb11-20160513-0892-e00.fits\n",
      "Converted lsc1m009-kb11-20160513-0893-e00.fits.fz to lco_data/lsc1m009-kb11-20160513-0893-e00.fits\n",
      "Converted lsc1m009-kb11-20160513-0894-e00.fits.fz to lco_data/lsc1m009-kb11-20160513-0894-e00.fits\n",
      "Converted lsc1m009-kb11-20160513-0895-e00.fits.fz to lco_data/lsc1m009-kb11-20160513-0895-e00.fits\n",
      "Converted lsc1m009-kb11-20160513-0896-e00.fits.fz to lco_data/lsc1m009-kb11-20160513-0896-e00.fits\n",
      "Converted lsc1m009-kb11-20160513-0897-e00.fits.fz to lco_data/lsc1m009-kb11-20160513-0897-e00.fits\n",
      "Converted lsc1m009-kb11-20160513-0898-e00.fits.fz to lco_data/lsc1m009-kb11-20160513-0898-e00.fits\n",
      "Converted lsc1m009-kb11-20160513-0899-e00.fits.fz to lco_data/lsc1m009-kb11-20160513-0899-e00.fits\n",
      "Converted lsc1m009-kb11-20160513-0900-e00.fits.fz to lco_data/lsc1m009-kb11-20160513-0900-e00.fits\n",
      "Converted lsc1m009-kb11-20160513-0901-e00.fits.fz to lco_data/lsc1m009-kb11-20160513-0901-e00.fits\n",
      "Converted lsc1m009-kb11-20160513-0902-e00.fits.fz to lco_data/lsc1m009-kb11-20160513-0902-e00.fits\n",
      "Converted lsc1m009-kb11-20160513-0903-e00.fits.fz to lco_data/lsc1m009-kb11-20160513-0903-e00.fits\n",
      "Converted lsc1m009-kb11-20160513-0904-e00.fits.fz to lco_data/lsc1m009-kb11-20160513-0904-e00.fits\n",
      "Converted lsc1m009-kb11-20160513-0905-e00.fits.fz to lco_data/lsc1m009-kb11-20160513-0905-e00.fits\n",
      "Converted lsc1m009-kb11-20160513-0906-e00.fits.fz to lco_data/lsc1m009-kb11-20160513-0906-e00.fits\n",
      "Converted lsc1m009-kb11-20160513-0907-e00.fits.fz to lco_data/lsc1m009-kb11-20160513-0907-e00.fits\n",
      "Converted lsc1m009-kb11-20160513-0908-e00.fits.fz to lco_data/lsc1m009-kb11-20160513-0908-e00.fits\n",
      "Converted lsc1m009-kb11-20160513-0909-e00.fits.fz to lco_data/lsc1m009-kb11-20160513-0909-e00.fits\n",
      "Converted lsc1m009-kb11-20160513-0910-e00.fits.fz to lco_data/lsc1m009-kb11-20160513-0910-e00.fits\n",
      "Converted lsc1m009-kb11-20160513-0911-e00.fits.fz to lco_data/lsc1m009-kb11-20160513-0911-e00.fits\n",
      "Converted lsc1m009-kb11-20160513-0912-e00.fits.fz to lco_data/lsc1m009-kb11-20160513-0912-e00.fits\n",
      "Converted lsc1m009-kb11-20160513-0913-e00.fits.fz to lco_data/lsc1m009-kb11-20160513-0913-e00.fits\n",
      "Converted lsc1m009-kb11-20160513-0914-e00.fits.fz to lco_data/lsc1m009-kb11-20160513-0914-e00.fits\n",
      "Converted lsc1m009-kb11-20160513-0915-e00.fits.fz to lco_data/lsc1m009-kb11-20160513-0915-e00.fits\n",
      "Converted lsc1m009-kb11-20160513-0916-e00.fits.fz to lco_data/lsc1m009-kb11-20160513-0916-e00.fits\n",
      "Converted lsc1m009-kb11-20160513-0917-e00.fits.fz to lco_data/lsc1m009-kb11-20160513-0917-e00.fits\n",
      "Converted lsc1m009-kb11-20160513-0918-e00.fits.fz to lco_data/lsc1m009-kb11-20160513-0918-e00.fits\n",
      "Converted lsc1m009-kb11-20160513-0919-e00.fits.fz to lco_data/lsc1m009-kb11-20160513-0919-e00.fits\n",
      "Converted lsc1m009-kb11-20160513-0920-e00.fits.fz to lco_data/lsc1m009-kb11-20160513-0920-e00.fits\n",
      "Converted lsc1m009-kb11-20160513-0921-e00.fits.fz to lco_data/lsc1m009-kb11-20160513-0921-e00.fits\n",
      "Converted lsc1m009-kb11-20160513-0922-e00.fits.fz to lco_data/lsc1m009-kb11-20160513-0922-e00.fits\n",
      "Converted lsc1m009-kb11-20160513-0923-e00.fits.fz to lco_data/lsc1m009-kb11-20160513-0923-e00.fits\n",
      "Converted lsc1m009-kb11-20160513-0924-e00.fits.fz to lco_data/lsc1m009-kb11-20160513-0924-e00.fits\n",
      "Converted lsc1m009-kb11-20160513-0925-e00.fits.fz to lco_data/lsc1m009-kb11-20160513-0925-e00.fits\n",
      "Converted lsc1m009-kb11-20160513-0928-e00.fits.fz to lco_data/lsc1m009-kb11-20160513-0928-e00.fits\n",
      "Converted lsc1m009-kb11-20160513-0929-e00.fits.fz to lco_data/lsc1m009-kb11-20160513-0929-e00.fits\n",
      "Converted lsc1m009-kb11-20160513-0930-e00.fits.fz to lco_data/lsc1m009-kb11-20160513-0930-e00.fits\n",
      "Converted lsc1m009-kb11-20160513-0931-e00.fits.fz to lco_data/lsc1m009-kb11-20160513-0931-e00.fits\n",
      "Converted lsc1m009-kb11-20160513-0932-e00.fits.fz to lco_data/lsc1m009-kb11-20160513-0932-e00.fits\n",
      "Converted lsc1m009-kb11-20160513-0933-e00.fits.fz to lco_data/lsc1m009-kb11-20160513-0933-e00.fits\n",
      "Converted lsc1m009-kb11-20160513-0934-e00.fits.fz to lco_data/lsc1m009-kb11-20160513-0934-e00.fits\n",
      "Converted lsc1m009-kb11-20160513-0935-e00.fits.fz to lco_data/lsc1m009-kb11-20160513-0935-e00.fits\n",
      "Converted lsc1m009-kb11-20160513-0937-e00.fits.fz to lco_data/lsc1m009-kb11-20160513-0937-e00.fits\n"
     ]
    }
   ],
   "execution_count": 5
  },
  {
   "metadata": {},
   "cell_type": "code",
   "outputs": [],
   "execution_count": null,
   "source": "",
   "id": "3fbdd9c23429e59f"
  }
 ],
 "metadata": {
  "kernelspec": {
   "display_name": "Python 3",
   "language": "python",
   "name": "python3"
  },
  "language_info": {
   "codemirror_mode": {
    "name": "ipython",
    "version": 2
   },
   "file_extension": ".py",
   "mimetype": "text/x-python",
   "name": "python",
   "nbconvert_exporter": "python",
   "pygments_lexer": "ipython2",
   "version": "2.7.6"
  }
 },
 "nbformat": 4,
 "nbformat_minor": 5
}
